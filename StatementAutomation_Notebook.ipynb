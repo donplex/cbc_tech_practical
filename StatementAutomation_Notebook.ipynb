{
 "cells": [
  {
   "cell_type": "code",
   "execution_count": null,
   "metadata": {},
   "outputs": [],
   "source": [
    "import re"
   ]
  },
  {
   "cell_type": "code",
   "execution_count": null,
   "metadata": {},
   "outputs": [],
   "source": [
    "strTextFileData =\"\""
   ]
  },
  {
   "cell_type": "code",
   "execution_count": null,
   "metadata": {},
   "outputs": [],
   "source": [
    "strFilePath = \".\\\\ABCDISK25112021.txt\""
   ]
  },
  {
   "cell_type": "code",
   "execution_count": 211,
   "metadata": {},
   "outputs": [],
   "source": [
    "with open( strFilePath, \"r\" ) as file:\n",
    "\n",
    "    strTextFileData = file.read()"
   ]
  },
  {
   "cell_type": "code",
   "execution_count": null,
   "metadata": {},
   "outputs": [],
   "source": [
    "strTextFileData"
   ]
  },
  {
   "cell_type": "code",
   "execution_count": null,
   "metadata": {},
   "outputs": [],
   "source": [
    "strMessageIndetification = r'[-]*\\s*Message\\s*Text\\s*[-]*'"
   ]
  },
  {
   "cell_type": "code",
   "execution_count": 212,
   "metadata": {},
   "outputs": [],
   "source": [
    "findMatches = re.findall( strMessageIndetification, strTextFileData , re.IGNORECASE)"
   ]
  },
  {
   "cell_type": "code",
   "execution_count": 213,
   "metadata": {},
   "outputs": [],
   "source": [
    "strTextFileData = ( re.split( r'_+\\n\\t' , strTextFileData ) )[1]"
   ]
  },
  {
   "cell_type": "code",
   "execution_count": 214,
   "metadata": {},
   "outputs": [
    {
     "data": {
      "text/plain": [
       "'--------------------------- Message Text ---------------------------\\t\\n        20: Transaction Reference Number\\n            XY2112211379-01\\n        25: Account Identification\\n            21245870000\\n       28C: Statement Number/Sequence Number\\n            00024/00001\\n        61: Statement Line\\n            Value  Entr F Code Reference                      Amount        Ma\\n            211125 1125 D FMSC ABC-SW-20683/21                  #50.00#     DR\\n                               BABCS002245605\\n                               CABYLKLXXXX       PAYMENT FEE\\n            211125 1125 D FMSC ABC/TT/21/50235                  #25.00#     D\\n                               BABCPS0022456360\\n                               CABYLKLXXXX       PAYMENT FEE\\n            211125 1125 D FMSC ABC/TT/21/50354                  #35.00#     C\\n                               BABCPS0022456449\\n                               CABYLKLXXXX       PAYMENT FEE\\n            211125 1125 D FMSC ABC-SW-20383/21                 #588.11#     D\\n                               BABCPS0022456205\\n                               CABYLKLXXXX       NORTH MANUFACTUR\\n\\t\\n\\t--------------------------- Message Text ---------------------------\\t\\n        20: Transaction Reference Number\\n            XY2112211379-01\\n        25: Account Identification\\n            21245870001\\n       28C: Statement Number/Sequence Number\\n            00025/00001\\n        61: Statement Line\\n            Value  Entr F Code Reference                      Amount        Ma\\n            211125 1125 D FMSC XYZ-SW-20483/21                  #100.00#     D\\n                               BXYCS0022457205\\n                               CXYYLKLXXXX       PAYMENT FEE\\n            211125 1125 D FMSC XYZ/TT/21/50235                  #125.00#     C\\n                               BXYCPS0022457360\\n                               CXTYLKLXXXX       PAYMENT FEE\\n'"
      ]
     },
     "execution_count": 214,
     "metadata": {},
     "output_type": "execute_result"
    }
   ],
   "source": [
    "strTextFileData"
   ]
  },
  {
   "cell_type": "code",
   "execution_count": 215,
   "metadata": {},
   "outputs": [
    {
     "data": {
      "text/plain": [
       "['--------------------------- Message Text ---------------------------',\n",
       " '--------------------------- Message Text ---------------------------']"
      ]
     },
     "execution_count": 215,
     "metadata": {},
     "output_type": "execute_result"
    }
   ],
   "source": [
    "findMatches"
   ]
  },
  {
   "cell_type": "code",
   "execution_count": 216,
   "metadata": {},
   "outputs": [],
   "source": [
    "strMessages = ( re.split( strMessageIndetification , strTextFileData ,re.IGNORECASE) )"
   ]
  },
  {
   "cell_type": "code",
   "execution_count": 227,
   "metadata": {},
   "outputs": [],
   "source": [
    "strMessages = [item for item in strMessages if item is not None and item != \"\"]\n"
   ]
  },
  {
   "cell_type": "code",
   "execution_count": 228,
   "metadata": {},
   "outputs": [
    {
     "data": {
      "text/plain": [
       "['\\t\\n        20: Transaction Reference Number\\n            XY2112211379-01\\n        25: Account Identification\\n            21245870000\\n       28C: Statement Number/Sequence Number\\n            00024/00001\\n        61: Statement Line\\n            Value  Entr F Code Reference                      Amount        Ma\\n            211125 1125 D FMSC ABC-SW-20683/21                  #50.00#     DR\\n                               BABCS002245605\\n                               CABYLKLXXXX       PAYMENT FEE\\n            211125 1125 D FMSC ABC/TT/21/50235                  #25.00#     D\\n                               BABCPS0022456360\\n                               CABYLKLXXXX       PAYMENT FEE\\n            211125 1125 D FMSC ABC/TT/21/50354                  #35.00#     C\\n                               BABCPS0022456449\\n                               CABYLKLXXXX       PAYMENT FEE\\n            211125 1125 D FMSC ABC-SW-20383/21                 #588.11#     D\\n                               BABCPS0022456205\\n                               CABYLKLXXXX       NORTH MANUFACTUR\\n\\t\\n\\t',\n",
       " '\\t\\n        20: Transaction Reference Number\\n            XY2112211379-01\\n        25: Account Identification\\n            21245870001\\n       28C: Statement Number/Sequence Number\\n            00025/00001\\n        61: Statement Line\\n            Value  Entr F Code Reference                      Amount        Ma\\n            211125 1125 D FMSC XYZ-SW-20483/21                  #100.00#     D\\n                               BXYCS0022457205\\n                               CXYYLKLXXXX       PAYMENT FEE\\n            211125 1125 D FMSC XYZ/TT/21/50235                  #125.00#     C\\n                               BXYCPS0022457360\\n                               CXTYLKLXXXX       PAYMENT FEE\\n']"
      ]
     },
     "execution_count": 228,
     "metadata": {},
     "output_type": "execute_result"
    }
   ],
   "source": [
    "strMessages"
   ]
  },
  {
   "cell_type": "code",
   "execution_count": 231,
   "metadata": {},
   "outputs": [
    {
     "name": "stdout",
     "output_type": "stream",
     "text": [
      "\t\n",
      "        20: Transaction Reference Number\n",
      "            XY2112211379-01\n",
      "        25: Account Identification\n",
      "            21245870000\n",
      "       28C: Statement Number/Sequence Number\n",
      "            00024/00001\n",
      "        61: Statement Line\n",
      "            Value  Entr F Code Reference                      Amount        Ma\n",
      "            211125 1125 D FMSC ABC-SW-20683/21                  #50.00#     DR\n",
      "                               BABCS002245605\n",
      "                               CABYLKLXXXX       PAYMENT FEE\n",
      "            211125 1125 D FMSC ABC/TT/21/50235                  #25.00#     D\n",
      "                               BABCPS0022456360\n",
      "                               CABYLKLXXXX       PAYMENT FEE\n",
      "            211125 1125 D FMSC ABC/TT/21/50354                  #35.00#     C\n",
      "                               BABCPS0022456449\n",
      "                               CABYLKLXXXX       PAYMENT FEE\n",
      "            211125 1125 D FMSC ABC-SW-20383/21                 #588.11#     D\n",
      "                               BABCPS0022456205\n",
      "                               CABYLKLXXXX       NORTH MANUFACTUR\n",
      "\t\n",
      "\t\n",
      "\t\n",
      "        20: Transaction Reference Number\n",
      "            XY2112211379-01\n",
      "        25: Account Identification\n",
      "            21245870001\n",
      "       28C: Statement Number/Sequence Number\n",
      "            00025/00001\n",
      "        61: Statement Line\n",
      "            Value  Entr F Code Reference                      Amount        Ma\n",
      "            211125 1125 D FMSC XYZ-SW-20483/21                  #100.00#     D\n",
      "                               BXYCS0022457205\n",
      "                               CXYYLKLXXXX       PAYMENT FEE\n",
      "            211125 1125 D FMSC XYZ/TT/21/50235                  #125.00#     C\n",
      "                               BXYCPS0022457360\n",
      "                               CXTYLKLXXXX       PAYMENT FEE\n",
      "\n"
     ]
    }
   ],
   "source": [
    "for matchItem in strMessages:\n",
    "    print(matchItem)"
   ]
  },
  {
   "cell_type": "code",
   "execution_count": 229,
   "metadata": {},
   "outputs": [],
   "source": [
    "strAccountIdentificationPattern = r'\\s*Account\\s*Identification\\s*\\d+\\s*28C\\s*'"
   ]
  },
  {
   "cell_type": "code",
   "execution_count": 230,
   "metadata": {},
   "outputs": [
    {
     "data": {
      "text/plain": [
       "' Account Identification\\n            21245870000\\n       28C'"
      ]
     },
     "execution_count": 230,
     "metadata": {},
     "output_type": "execute_result"
    }
   ],
   "source": [
    "re.search( strAccountIdentificationPattern, strMessages[0] , re.IGNORECASE )[0]"
   ]
  },
  {
   "cell_type": "code",
   "execution_count": 101,
   "metadata": {},
   "outputs": [],
   "source": [
    "strAccountIdentification = re.search( r'\\d+', (re.search( strAccountIdentificationPattern, strMessages[1] , re.IGNORECASE)[0] )).group(0)"
   ]
  },
  {
   "cell_type": "code",
   "execution_count": 102,
   "metadata": {},
   "outputs": [
    {
     "data": {
      "text/plain": [
       "'21245870000'"
      ]
     },
     "execution_count": 102,
     "metadata": {},
     "output_type": "execute_result"
    }
   ],
   "source": [
    "strAccountIdentification"
   ]
  },
  {
   "cell_type": "code",
   "execution_count": 89,
   "metadata": {},
   "outputs": [],
   "source": [
    "strStatementNumberPattern = r'\\s*Statement\\s*Number\\s*/\\s*Sequence\\s*Number\\s*\\d+/\\d+\\s*61\\:\\s*Statement\\s*Line\\s*'"
   ]
  },
  {
   "cell_type": "code",
   "execution_count": 128,
   "metadata": {},
   "outputs": [],
   "source": [
    "strStatementNumber = re.search( r'\\d+/\\d+' , ( re.search( strStatementNumberPattern, strMessages[1] , re.IGNORECASE)[0] ) ).group(0)"
   ]
  },
  {
   "cell_type": "code",
   "execution_count": 129,
   "metadata": {},
   "outputs": [
    {
     "data": {
      "text/plain": [
       "'00024/00001'"
      ]
     },
     "execution_count": 129,
     "metadata": {},
     "output_type": "execute_result"
    }
   ],
   "source": [
    "strStatementNumber"
   ]
  },
  {
   "cell_type": "code",
   "execution_count": 235,
   "metadata": {},
   "outputs": [],
   "source": [
    "strLineDataPattern = r'\\s*Statement\\s*Line\\s*'"
   ]
  },
  {
   "cell_type": "code",
   "execution_count": 137,
   "metadata": {},
   "outputs": [
    {
     "data": {
      "text/plain": [
       "1060"
      ]
     },
     "execution_count": 137,
     "metadata": {},
     "output_type": "execute_result"
    }
   ],
   "source": [
    "re.search( strLineDataPattern , strMessages[1] , re.IGNORECASE ).endpos"
   ]
  },
  {
   "cell_type": "code",
   "execution_count": 232,
   "metadata": {},
   "outputs": [],
   "source": [
    "strTable = re.split( strLineDataPattern , strMessages[0] , re.IGNORECASE)[1] "
   ]
  },
  {
   "cell_type": "code",
   "execution_count": 234,
   "metadata": {},
   "outputs": [],
   "source": [
    "rows = strTable.strip().split('\\n')"
   ]
  },
  {
   "cell_type": "code",
   "execution_count": 147,
   "metadata": {},
   "outputs": [],
   "source": [
    "table = [row.split() for row in rows]"
   ]
  },
  {
   "cell_type": "code",
   "execution_count": 241,
   "metadata": {},
   "outputs": [
    {
     "data": {
      "text/plain": [
       "[['Value', 'Entr', 'F', 'Code', 'Reference', 'Amount', 'Ma'],\n",
       " ['211125', '1125', 'D', 'FMSC', 'ABC-SW-20683/21', '#50.00#', 'DR'],\n",
       " ['BABCS002245605'],\n",
       " ['CABYLKLXXXX', 'PAYMENT', 'FEE'],\n",
       " ['211125', '1125', 'D', 'FMSC', 'ABC/TT/21/50235', '#25.00#', 'D'],\n",
       " ['BABCPS0022456360'],\n",
       " ['CABYLKLXXXX', 'PAYMENT', 'FEE'],\n",
       " ['211125', '1125', 'D', 'FMSC', 'ABC/TT/21/50354', '#35.00#', 'C'],\n",
       " ['BABCPS0022456449'],\n",
       " ['CABYLKLXXXX', 'PAYMENT', 'FEE'],\n",
       " ['211125', '1125', 'D', 'FMSC', 'ABC-SW-20383/21', '#588.11#', 'D'],\n",
       " ['BABCPS0022456205'],\n",
       " ['CABYLKLXXXX', 'NORTH', 'MANUFACTUR']]"
      ]
     },
     "execution_count": 241,
     "metadata": {},
     "output_type": "execute_result"
    }
   ],
   "source": [
    "table"
   ]
  },
  {
   "cell_type": "code",
   "execution_count": 150,
   "metadata": {},
   "outputs": [],
   "source": [
    "import pandas as pd"
   ]
  },
  {
   "cell_type": "code",
   "execution_count": 151,
   "metadata": {},
   "outputs": [],
   "source": [
    "df = pd.DataFrame(table[1:], columns=table[0])"
   ]
  },
  {
   "cell_type": "code",
   "execution_count": 152,
   "metadata": {},
   "outputs": [
    {
     "data": {
      "text/html": [
       "<div>\n",
       "<style scoped>\n",
       "    .dataframe tbody tr th:only-of-type {\n",
       "        vertical-align: middle;\n",
       "    }\n",
       "\n",
       "    .dataframe tbody tr th {\n",
       "        vertical-align: top;\n",
       "    }\n",
       "\n",
       "    .dataframe thead th {\n",
       "        text-align: right;\n",
       "    }\n",
       "</style>\n",
       "<table border=\"1\" class=\"dataframe\">\n",
       "  <thead>\n",
       "    <tr style=\"text-align: right;\">\n",
       "      <th></th>\n",
       "      <th>Value</th>\n",
       "      <th>Entr</th>\n",
       "      <th>F</th>\n",
       "      <th>Code</th>\n",
       "      <th>Reference</th>\n",
       "      <th>Amount</th>\n",
       "      <th>Ma</th>\n",
       "    </tr>\n",
       "  </thead>\n",
       "  <tbody>\n",
       "    <tr>\n",
       "      <th>0</th>\n",
       "      <td>211125</td>\n",
       "      <td>1125</td>\n",
       "      <td>D</td>\n",
       "      <td>FMSC</td>\n",
       "      <td>ABC-SW-20683/21</td>\n",
       "      <td>#50.00#</td>\n",
       "      <td>DR</td>\n",
       "    </tr>\n",
       "    <tr>\n",
       "      <th>1</th>\n",
       "      <td>BABCS002245605</td>\n",
       "      <td>None</td>\n",
       "      <td>None</td>\n",
       "      <td>None</td>\n",
       "      <td>None</td>\n",
       "      <td>None</td>\n",
       "      <td>None</td>\n",
       "    </tr>\n",
       "    <tr>\n",
       "      <th>2</th>\n",
       "      <td>CABYLKLXXXX</td>\n",
       "      <td>PAYMENT</td>\n",
       "      <td>FEE</td>\n",
       "      <td>None</td>\n",
       "      <td>None</td>\n",
       "      <td>None</td>\n",
       "      <td>None</td>\n",
       "    </tr>\n",
       "    <tr>\n",
       "      <th>3</th>\n",
       "      <td>211125</td>\n",
       "      <td>1125</td>\n",
       "      <td>D</td>\n",
       "      <td>FMSC</td>\n",
       "      <td>ABC/TT/21/50235</td>\n",
       "      <td>#25.00#</td>\n",
       "      <td>D</td>\n",
       "    </tr>\n",
       "    <tr>\n",
       "      <th>4</th>\n",
       "      <td>BABCPS0022456360</td>\n",
       "      <td>None</td>\n",
       "      <td>None</td>\n",
       "      <td>None</td>\n",
       "      <td>None</td>\n",
       "      <td>None</td>\n",
       "      <td>None</td>\n",
       "    </tr>\n",
       "    <tr>\n",
       "      <th>5</th>\n",
       "      <td>CABYLKLXXXX</td>\n",
       "      <td>PAYMENT</td>\n",
       "      <td>FEE</td>\n",
       "      <td>None</td>\n",
       "      <td>None</td>\n",
       "      <td>None</td>\n",
       "      <td>None</td>\n",
       "    </tr>\n",
       "    <tr>\n",
       "      <th>6</th>\n",
       "      <td>211125</td>\n",
       "      <td>1125</td>\n",
       "      <td>D</td>\n",
       "      <td>FMSC</td>\n",
       "      <td>ABC/TT/21/50354</td>\n",
       "      <td>#35.00#</td>\n",
       "      <td>C</td>\n",
       "    </tr>\n",
       "    <tr>\n",
       "      <th>7</th>\n",
       "      <td>BABCPS0022456449</td>\n",
       "      <td>None</td>\n",
       "      <td>None</td>\n",
       "      <td>None</td>\n",
       "      <td>None</td>\n",
       "      <td>None</td>\n",
       "      <td>None</td>\n",
       "    </tr>\n",
       "    <tr>\n",
       "      <th>8</th>\n",
       "      <td>CABYLKLXXXX</td>\n",
       "      <td>PAYMENT</td>\n",
       "      <td>FEE</td>\n",
       "      <td>None</td>\n",
       "      <td>None</td>\n",
       "      <td>None</td>\n",
       "      <td>None</td>\n",
       "    </tr>\n",
       "    <tr>\n",
       "      <th>9</th>\n",
       "      <td>211125</td>\n",
       "      <td>1125</td>\n",
       "      <td>D</td>\n",
       "      <td>FMSC</td>\n",
       "      <td>ABC-SW-20383/21</td>\n",
       "      <td>#588.11#</td>\n",
       "      <td>D</td>\n",
       "    </tr>\n",
       "    <tr>\n",
       "      <th>10</th>\n",
       "      <td>BABCPS0022456205</td>\n",
       "      <td>None</td>\n",
       "      <td>None</td>\n",
       "      <td>None</td>\n",
       "      <td>None</td>\n",
       "      <td>None</td>\n",
       "      <td>None</td>\n",
       "    </tr>\n",
       "    <tr>\n",
       "      <th>11</th>\n",
       "      <td>CABYLKLXXXX</td>\n",
       "      <td>NORTH</td>\n",
       "      <td>MANUFACTUR</td>\n",
       "      <td>None</td>\n",
       "      <td>None</td>\n",
       "      <td>None</td>\n",
       "      <td>None</td>\n",
       "    </tr>\n",
       "  </tbody>\n",
       "</table>\n",
       "</div>"
      ],
      "text/plain": [
       "               Value     Entr           F  Code        Reference    Amount  \\\n",
       "0             211125     1125           D  FMSC  ABC-SW-20683/21   #50.00#   \n",
       "1     BABCS002245605     None        None  None             None      None   \n",
       "2        CABYLKLXXXX  PAYMENT         FEE  None             None      None   \n",
       "3             211125     1125           D  FMSC  ABC/TT/21/50235   #25.00#   \n",
       "4   BABCPS0022456360     None        None  None             None      None   \n",
       "5        CABYLKLXXXX  PAYMENT         FEE  None             None      None   \n",
       "6             211125     1125           D  FMSC  ABC/TT/21/50354   #35.00#   \n",
       "7   BABCPS0022456449     None        None  None             None      None   \n",
       "8        CABYLKLXXXX  PAYMENT         FEE  None             None      None   \n",
       "9             211125     1125           D  FMSC  ABC-SW-20383/21  #588.11#   \n",
       "10  BABCPS0022456205     None        None  None             None      None   \n",
       "11       CABYLKLXXXX    NORTH  MANUFACTUR  None             None      None   \n",
       "\n",
       "      Ma  \n",
       "0     DR  \n",
       "1   None  \n",
       "2   None  \n",
       "3      D  \n",
       "4   None  \n",
       "5   None  \n",
       "6      C  \n",
       "7   None  \n",
       "8   None  \n",
       "9      D  \n",
       "10  None  \n",
       "11  None  "
      ]
     },
     "execution_count": 152,
     "metadata": {},
     "output_type": "execute_result"
    }
   ],
   "source": [
    "df"
   ]
  }
 ],
 "metadata": {
  "kernelspec": {
   "display_name": "Python 3",
   "language": "python",
   "name": "python3"
  },
  "language_info": {
   "codemirror_mode": {
    "name": "ipython",
    "version": 3
   },
   "file_extension": ".py",
   "mimetype": "text/x-python",
   "name": "python",
   "nbconvert_exporter": "python",
   "pygments_lexer": "ipython3",
   "version": "3.8.9"
  }
 },
 "nbformat": 4,
 "nbformat_minor": 2
}
